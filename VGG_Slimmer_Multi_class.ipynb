{
  "nbformat": 4,
  "nbformat_minor": 0,
  "metadata": {
    "colab": {
      "name": "VGG_Slimmer Multi-class.ipynb",
      "provenance": [],
      "collapsed_sections": []
    },
    "kernelspec": {
      "name": "python3",
      "display_name": "Python 3"
    },
    "accelerator": "GPU"
  },
  "cells": [
    {
      "cell_type": "code",
      "metadata": {
        "id": "kI1bI4szaLT4",
        "colab_type": "code",
        "colab": {
          "base_uri": "https://localhost:8080/",
          "height": 609
        },
        "outputId": "49d2e7d7-aea7-4bbd-b5f0-82a4957d208b"
      },
      "source": [
        "# install librosa if it is not avaliable \n",
        "! pip install librosa==0.7.2"
      ],
      "execution_count": 6,
      "outputs": [
        {
          "output_type": "stream",
          "text": [
            "Collecting librosa==0.7.2\n",
            "\u001b[?25l  Downloading https://files.pythonhosted.org/packages/77/b5/1817862d64a7c231afd15419d8418ae1f000742cac275e85c74b219cbccb/librosa-0.7.2.tar.gz (1.6MB)\n",
            "\r\u001b[K     |▏                               | 10kB 22.2MB/s eta 0:00:01\r\u001b[K     |▍                               | 20kB 26.3MB/s eta 0:00:01\r\u001b[K     |▋                               | 30kB 18.9MB/s eta 0:00:01\r\u001b[K     |▉                               | 40kB 15.6MB/s eta 0:00:01\r\u001b[K     |█                               | 51kB 11.9MB/s eta 0:00:01\r\u001b[K     |█▎                              | 61kB 11.6MB/s eta 0:00:01\r\u001b[K     |█▍                              | 71kB 11.3MB/s eta 0:00:01\r\u001b[K     |█▋                              | 81kB 11.3MB/s eta 0:00:01\r\u001b[K     |█▉                              | 92kB 11.0MB/s eta 0:00:01\r\u001b[K     |██                              | 102kB 10.9MB/s eta 0:00:01\r\u001b[K     |██▎                             | 112kB 10.9MB/s eta 0:00:01\r\u001b[K     |██▌                             | 122kB 10.9MB/s eta 0:00:01\r\u001b[K     |██▊                             | 133kB 10.9MB/s eta 0:00:01\r\u001b[K     |██▉                             | 143kB 10.9MB/s eta 0:00:01\r\u001b[K     |███                             | 153kB 10.9MB/s eta 0:00:01\r\u001b[K     |███▎                            | 163kB 10.9MB/s eta 0:00:01\r\u001b[K     |███▌                            | 174kB 10.9MB/s eta 0:00:01\r\u001b[K     |███▊                            | 184kB 10.9MB/s eta 0:00:01\r\u001b[K     |████                            | 194kB 10.9MB/s eta 0:00:01\r\u001b[K     |████                            | 204kB 10.9MB/s eta 0:00:01\r\u001b[K     |████▎                           | 215kB 10.9MB/s eta 0:00:01\r\u001b[K     |████▌                           | 225kB 10.9MB/s eta 0:00:01\r\u001b[K     |████▊                           | 235kB 10.9MB/s eta 0:00:01\r\u001b[K     |█████                           | 245kB 10.9MB/s eta 0:00:01\r\u001b[K     |█████▏                          | 256kB 10.9MB/s eta 0:00:01\r\u001b[K     |█████▍                          | 266kB 10.9MB/s eta 0:00:01\r\u001b[K     |█████▌                          | 276kB 10.9MB/s eta 0:00:01\r\u001b[K     |█████▊                          | 286kB 10.9MB/s eta 0:00:01\r\u001b[K     |██████                          | 296kB 10.9MB/s eta 0:00:01\r\u001b[K     |██████▏                         | 307kB 10.9MB/s eta 0:00:01\r\u001b[K     |██████▍                         | 317kB 10.9MB/s eta 0:00:01\r\u001b[K     |██████▋                         | 327kB 10.9MB/s eta 0:00:01\r\u001b[K     |██████▊                         | 337kB 10.9MB/s eta 0:00:01\r\u001b[K     |███████                         | 348kB 10.9MB/s eta 0:00:01\r\u001b[K     |███████▏                        | 358kB 10.9MB/s eta 0:00:01\r\u001b[K     |███████▍                        | 368kB 10.9MB/s eta 0:00:01\r\u001b[K     |███████▋                        | 378kB 10.9MB/s eta 0:00:01\r\u001b[K     |███████▉                        | 389kB 10.9MB/s eta 0:00:01\r\u001b[K     |████████                        | 399kB 10.9MB/s eta 0:00:01\r\u001b[K     |████████▏                       | 409kB 10.9MB/s eta 0:00:01\r\u001b[K     |████████▍                       | 419kB 10.9MB/s eta 0:00:01\r\u001b[K     |████████▋                       | 430kB 10.9MB/s eta 0:00:01\r\u001b[K     |████████▉                       | 440kB 10.9MB/s eta 0:00:01\r\u001b[K     |█████████                       | 450kB 10.9MB/s eta 0:00:01\r\u001b[K     |█████████▎                      | 460kB 10.9MB/s eta 0:00:01\r\u001b[K     |█████████▍                      | 471kB 10.9MB/s eta 0:00:01\r\u001b[K     |█████████▋                      | 481kB 10.9MB/s eta 0:00:01\r\u001b[K     |█████████▉                      | 491kB 10.9MB/s eta 0:00:01\r\u001b[K     |██████████                      | 501kB 10.9MB/s eta 0:00:01\r\u001b[K     |██████████▎                     | 512kB 10.9MB/s eta 0:00:01\r\u001b[K     |██████████▌                     | 522kB 10.9MB/s eta 0:00:01\r\u001b[K     |██████████▊                     | 532kB 10.9MB/s eta 0:00:01\r\u001b[K     |██████████▉                     | 542kB 10.9MB/s eta 0:00:01\r\u001b[K     |███████████                     | 552kB 10.9MB/s eta 0:00:01\r\u001b[K     |███████████▎                    | 563kB 10.9MB/s eta 0:00:01\r\u001b[K     |███████████▌                    | 573kB 10.9MB/s eta 0:00:01\r\u001b[K     |███████████▊                    | 583kB 10.9MB/s eta 0:00:01\r\u001b[K     |████████████                    | 593kB 10.9MB/s eta 0:00:01\r\u001b[K     |████████████▏                   | 604kB 10.9MB/s eta 0:00:01\r\u001b[K     |████████████▎                   | 614kB 10.9MB/s eta 0:00:01\r\u001b[K     |████████████▌                   | 624kB 10.9MB/s eta 0:00:01\r\u001b[K     |████████████▊                   | 634kB 10.9MB/s eta 0:00:01\r\u001b[K     |█████████████                   | 645kB 10.9MB/s eta 0:00:01\r\u001b[K     |█████████████▏                  | 655kB 10.9MB/s eta 0:00:01\r\u001b[K     |█████████████▍                  | 665kB 10.9MB/s eta 0:00:01\r\u001b[K     |█████████████▌                  | 675kB 10.9MB/s eta 0:00:01\r\u001b[K     |█████████████▊                  | 686kB 10.9MB/s eta 0:00:01\r\u001b[K     |██████████████                  | 696kB 10.9MB/s eta 0:00:01\r\u001b[K     |██████████████▏                 | 706kB 10.9MB/s eta 0:00:01\r\u001b[K     |██████████████▍                 | 716kB 10.9MB/s eta 0:00:01\r\u001b[K     |██████████████▋                 | 727kB 10.9MB/s eta 0:00:01\r\u001b[K     |██████████████▉                 | 737kB 10.9MB/s eta 0:00:01\r\u001b[K     |███████████████                 | 747kB 10.9MB/s eta 0:00:01\r\u001b[K     |███████████████▏                | 757kB 10.9MB/s eta 0:00:01\r\u001b[K     |███████████████▍                | 768kB 10.9MB/s eta 0:00:01\r\u001b[K     |███████████████▋                | 778kB 10.9MB/s eta 0:00:01\r\u001b[K     |███████████████▉                | 788kB 10.9MB/s eta 0:00:01\r\u001b[K     |████████████████                | 798kB 10.9MB/s eta 0:00:01\r\u001b[K     |████████████████▏               | 808kB 10.9MB/s eta 0:00:01\r\u001b[K     |████████████████▍               | 819kB 10.9MB/s eta 0:00:01\r\u001b[K     |████████████████▋               | 829kB 10.9MB/s eta 0:00:01\r\u001b[K     |████████████████▉               | 839kB 10.9MB/s eta 0:00:01\r\u001b[K     |█████████████████               | 849kB 10.9MB/s eta 0:00:01\r\u001b[K     |█████████████████▎              | 860kB 10.9MB/s eta 0:00:01\r\u001b[K     |█████████████████▌              | 870kB 10.9MB/s eta 0:00:01\r\u001b[K     |█████████████████▋              | 880kB 10.9MB/s eta 0:00:01\r\u001b[K     |█████████████████▉              | 890kB 10.9MB/s eta 0:00:01\r\u001b[K     |██████████████████              | 901kB 10.9MB/s eta 0:00:01\r\u001b[K     |██████████████████▎             | 911kB 10.9MB/s eta 0:00:01\r\u001b[K     |██████████████████▌             | 921kB 10.9MB/s eta 0:00:01\r\u001b[K     |██████████████████▊             | 931kB 10.9MB/s eta 0:00:01\r\u001b[K     |██████████████████▉             | 942kB 10.9MB/s eta 0:00:01\r\u001b[K     |███████████████████             | 952kB 10.9MB/s eta 0:00:01\r\u001b[K     |███████████████████▎            | 962kB 10.9MB/s eta 0:00:01\r\u001b[K     |███████████████████▌            | 972kB 10.9MB/s eta 0:00:01\r\u001b[K     |███████████████████▊            | 983kB 10.9MB/s eta 0:00:01\r\u001b[K     |████████████████████            | 993kB 10.9MB/s eta 0:00:01\r\u001b[K     |████████████████████▏           | 1.0MB 10.9MB/s eta 0:00:01\r\u001b[K     |████████████████████▎           | 1.0MB 10.9MB/s eta 0:00:01\r\u001b[K     |████████████████████▌           | 1.0MB 10.9MB/s eta 0:00:01\r\u001b[K     |████████████████████▊           | 1.0MB 10.9MB/s eta 0:00:01\r\u001b[K     |█████████████████████           | 1.0MB 10.9MB/s eta 0:00:01\r\u001b[K     |█████████████████████▏          | 1.1MB 10.9MB/s eta 0:00:01\r\u001b[K     |█████████████████████▍          | 1.1MB 10.9MB/s eta 0:00:01\r\u001b[K     |█████████████████████▋          | 1.1MB 10.9MB/s eta 0:00:01\r\u001b[K     |█████████████████████▊          | 1.1MB 10.9MB/s eta 0:00:01\r\u001b[K     |██████████████████████          | 1.1MB 10.9MB/s eta 0:00:01\r\u001b[K     |██████████████████████▏         | 1.1MB 10.9MB/s eta 0:00:01\r\u001b[K     |██████████████████████▍         | 1.1MB 10.9MB/s eta 0:00:01\r\u001b[K     |██████████████████████▋         | 1.1MB 10.9MB/s eta 0:00:01\r\u001b[K     |██████████████████████▉         | 1.1MB 10.9MB/s eta 0:00:01\r\u001b[K     |███████████████████████         | 1.1MB 10.9MB/s eta 0:00:01\r\u001b[K     |███████████████████████▏        | 1.2MB 10.9MB/s eta 0:00:01\r\u001b[K     |███████████████████████▍        | 1.2MB 10.9MB/s eta 0:00:01\r\u001b[K     |███████████████████████▋        | 1.2MB 10.9MB/s eta 0:00:01\r\u001b[K     |███████████████████████▉        | 1.2MB 10.9MB/s eta 0:00:01\r\u001b[K     |████████████████████████        | 1.2MB 10.9MB/s eta 0:00:01\r\u001b[K     |████████████████████████▎       | 1.2MB 10.9MB/s eta 0:00:01\r\u001b[K     |████████████████████████▍       | 1.2MB 10.9MB/s eta 0:00:01\r\u001b[K     |████████████████████████▋       | 1.2MB 10.9MB/s eta 0:00:01\r\u001b[K     |████████████████████████▉       | 1.2MB 10.9MB/s eta 0:00:01\r\u001b[K     |█████████████████████████       | 1.2MB 10.9MB/s eta 0:00:01\r\u001b[K     |█████████████████████████▎      | 1.3MB 10.9MB/s eta 0:00:01\r\u001b[K     |█████████████████████████▌      | 1.3MB 10.9MB/s eta 0:00:01\r\u001b[K     |█████████████████████████▋      | 1.3MB 10.9MB/s eta 0:00:01\r\u001b[K     |█████████████████████████▉      | 1.3MB 10.9MB/s eta 0:00:01\r\u001b[K     |██████████████████████████      | 1.3MB 10.9MB/s eta 0:00:01\r\u001b[K     |██████████████████████████▎     | 1.3MB 10.9MB/s eta 0:00:01\r\u001b[K     |██████████████████████████▌     | 1.3MB 10.9MB/s eta 0:00:01\r\u001b[K     |██████████████████████████▊     | 1.3MB 10.9MB/s eta 0:00:01\r\u001b[K     |███████████████████████████     | 1.3MB 10.9MB/s eta 0:00:01\r\u001b[K     |███████████████████████████     | 1.4MB 10.9MB/s eta 0:00:01\r\u001b[K     |███████████████████████████▎    | 1.4MB 10.9MB/s eta 0:00:01\r\u001b[K     |███████████████████████████▌    | 1.4MB 10.9MB/s eta 0:00:01\r\u001b[K     |███████████████████████████▊    | 1.4MB 10.9MB/s eta 0:00:01\r\u001b[K     |████████████████████████████    | 1.4MB 10.9MB/s eta 0:00:01\r\u001b[K     |████████████████████████████▏   | 1.4MB 10.9MB/s eta 0:00:01\r\u001b[K     |████████████████████████████▎   | 1.4MB 10.9MB/s eta 0:00:01\r\u001b[K     |████████████████████████████▌   | 1.4MB 10.9MB/s eta 0:00:01\r\u001b[K     |████████████████████████████▊   | 1.4MB 10.9MB/s eta 0:00:01\r\u001b[K     |█████████████████████████████   | 1.4MB 10.9MB/s eta 0:00:01\r\u001b[K     |█████████████████████████████▏  | 1.5MB 10.9MB/s eta 0:00:01\r\u001b[K     |█████████████████████████████▍  | 1.5MB 10.9MB/s eta 0:00:01\r\u001b[K     |█████████████████████████████▋  | 1.5MB 10.9MB/s eta 0:00:01\r\u001b[K     |█████████████████████████████▊  | 1.5MB 10.9MB/s eta 0:00:01\r\u001b[K     |██████████████████████████████  | 1.5MB 10.9MB/s eta 0:00:01\r\u001b[K     |██████████████████████████████▏ | 1.5MB 10.9MB/s eta 0:00:01\r\u001b[K     |██████████████████████████████▍ | 1.5MB 10.9MB/s eta 0:00:01\r\u001b[K     |██████████████████████████████▋ | 1.5MB 10.9MB/s eta 0:00:01\r\u001b[K     |██████████████████████████████▉ | 1.5MB 10.9MB/s eta 0:00:01\r\u001b[K     |███████████████████████████████ | 1.5MB 10.9MB/s eta 0:00:01\r\u001b[K     |███████████████████████████████▏| 1.6MB 10.9MB/s eta 0:00:01\r\u001b[K     |███████████████████████████████▍| 1.6MB 10.9MB/s eta 0:00:01\r\u001b[K     |███████████████████████████████▋| 1.6MB 10.9MB/s eta 0:00:01\r\u001b[K     |███████████████████████████████▉| 1.6MB 10.9MB/s eta 0:00:01\r\u001b[K     |████████████████████████████████| 1.6MB 10.9MB/s \n",
            "\u001b[?25hRequirement already satisfied: audioread>=2.0.0 in /usr/local/lib/python3.6/dist-packages (from librosa==0.7.2) (2.1.8)\n",
            "Requirement already satisfied: numpy>=1.15.0 in /usr/local/lib/python3.6/dist-packages (from librosa==0.7.2) (1.18.5)\n",
            "Requirement already satisfied: scipy>=1.0.0 in /usr/local/lib/python3.6/dist-packages (from librosa==0.7.2) (1.4.1)\n",
            "Requirement already satisfied: scikit-learn!=0.19.0,>=0.14.0 in /usr/local/lib/python3.6/dist-packages (from librosa==0.7.2) (0.22.2.post1)\n",
            "Requirement already satisfied: joblib>=0.12 in /usr/local/lib/python3.6/dist-packages (from librosa==0.7.2) (0.15.1)\n",
            "Requirement already satisfied: decorator>=3.0.0 in /usr/local/lib/python3.6/dist-packages (from librosa==0.7.2) (4.4.2)\n",
            "Requirement already satisfied: six>=1.3 in /usr/local/lib/python3.6/dist-packages (from librosa==0.7.2) (1.12.0)\n",
            "Requirement already satisfied: resampy>=0.2.2 in /usr/local/lib/python3.6/dist-packages (from librosa==0.7.2) (0.2.2)\n",
            "Requirement already satisfied: numba>=0.43.0 in /usr/local/lib/python3.6/dist-packages (from librosa==0.7.2) (0.48.0)\n",
            "Collecting soundfile>=0.9.0\n",
            "  Downloading https://files.pythonhosted.org/packages/eb/f2/3cbbbf3b96fb9fa91582c438b574cff3f45b29c772f94c400e2c99ef5db9/SoundFile-0.10.3.post1-py2.py3-none-any.whl\n",
            "Requirement already satisfied: setuptools in /usr/local/lib/python3.6/dist-packages (from numba>=0.43.0->librosa==0.7.2) (47.3.1)\n",
            "Requirement already satisfied: llvmlite<0.32.0,>=0.31.0dev0 in /usr/local/lib/python3.6/dist-packages (from numba>=0.43.0->librosa==0.7.2) (0.31.0)\n",
            "Requirement already satisfied: cffi>=1.0 in /usr/local/lib/python3.6/dist-packages (from soundfile>=0.9.0->librosa==0.7.2) (1.14.0)\n",
            "Requirement already satisfied: pycparser in /usr/local/lib/python3.6/dist-packages (from cffi>=1.0->soundfile>=0.9.0->librosa==0.7.2) (2.20)\n",
            "Building wheels for collected packages: librosa\n",
            "  Building wheel for librosa (setup.py) ... \u001b[?25l\u001b[?25hdone\n",
            "  Created wheel for librosa: filename=librosa-0.7.2-cp36-none-any.whl size=1612885 sha256=75d9e81a002b286f225326516b51c927874470362641430681622cab621dd882\n",
            "  Stored in directory: /root/.cache/pip/wheels/4c/6e/d7/bb93911540d2d1e44d690a1561871e5b6af82b69e80938abef\n",
            "Successfully built librosa\n",
            "Installing collected packages: soundfile, librosa\n",
            "  Found existing installation: librosa 0.6.3\n",
            "    Uninstalling librosa-0.6.3:\n",
            "      Successfully uninstalled librosa-0.6.3\n",
            "Successfully installed librosa-0.7.2 soundfile-0.10.3.post1\n"
          ],
          "name": "stdout"
        },
        {
          "output_type": "display_data",
          "data": {
            "application/vnd.colab-display-data+json": {
              "pip_warning": {
                "packages": [
                  "librosa"
                ]
              }
            }
          },
          "metadata": {
            "tags": []
          }
        }
      ]
    },
    {
      "cell_type": "code",
      "metadata": {
        "id": "2WlDWl9aRDMk",
        "colab_type": "code",
        "colab": {}
      },
      "source": [
        "# Mount the predict-wearer from google drive\n",
        "import os \n",
        "os.chdir('./drive/My Drive/predict-wearer')"
      ],
      "execution_count": 1,
      "outputs": []
    },
    {
      "cell_type": "code",
      "metadata": {
        "id": "C5m0K6F1Ru3H",
        "colab_type": "code",
        "colab": {}
      },
      "source": [
        "from utilize.data import *\n",
        "from utilize.model import *\n",
        "from utilize.transform import *\n",
        "import tensorflow.keras as keras\n",
        "import numpy as np"
      ],
      "execution_count": 2,
      "outputs": []
    },
    {
      "cell_type": "code",
      "metadata": {
        "id": "REPy5Kr0RwAY",
        "colab_type": "code",
        "colab": {}
      },
      "source": [
        "LOG_FOLDER = './results/vgg_slimmer_0607_002_rl0.0001_dropout0.6_fl960_hl160_bs128/'\n",
        "DATA_PATH = \"./data/002_0528.wav\"\n",
        "LABELS_PATH = \"./data/002_0528.txt\""
      ],
      "execution_count": 3,
      "outputs": []
    },
    {
      "cell_type": "code",
      "metadata": {
        "id": "MdYQ7ROZU-pi",
        "colab_type": "code",
        "colab": {}
      },
      "source": [
        "if not os.path.exists(LOG_FOLDER): \n",
        "    os.mkdir(LOG_FOLDER)"
      ],
      "execution_count": 4,
      "outputs": []
    },
    {
      "cell_type": "code",
      "metadata": {
        "id": "cFqbJDudR5QO",
        "colab_type": "code",
        "colab": {}
      },
      "source": [
        "# Load the data \n",
        "X, y, sr = load_mfcc_frames_multiclass(data_path = DATA_PATH, labels_path = LABELS_PATH)"
      ],
      "execution_count": 5,
      "outputs": []
    },
    {
      "cell_type": "code",
      "metadata": {
        "id": "8Y1KxtOxqbMu",
        "colab_type": "code",
        "colab": {
          "base_uri": "https://localhost:8080/",
          "height": 34
        },
        "outputId": "91818a23-29dd-4af7-9603-3498cc9ab6a9"
      },
      "source": [
        "X.shape, y.shape"
      ],
      "execution_count": 6,
      "outputs": [
        {
          "output_type": "execute_result",
          "data": {
            "text/plain": [
              "((43413, 42, 12, 1), (43413, 3))"
            ]
          },
          "metadata": {
            "tags": []
          },
          "execution_count": 6
        }
      ]
    },
    {
      "cell_type": "code",
      "metadata": {
        "id": "WE_hhXGZqg4d",
        "colab_type": "code",
        "colab": {
          "base_uri": "https://localhost:8080/",
          "height": 69
        },
        "outputId": "4c44d403-c40d-4bab-cac7-b5821750284f"
      },
      "source": [
        "np.unique(y, return_counts=True, axis = 0)"
      ],
      "execution_count": 7,
      "outputs": [
        {
          "output_type": "execute_result",
          "data": {
            "text/plain": [
              "(array([[False, False,  True],\n",
              "        [False,  True, False],\n",
              "        [ True, False, False]]), array([30984,  5648,  6781]))"
            ]
          },
          "metadata": {
            "tags": []
          },
          "execution_count": 7
        }
      ]
    },
    {
      "cell_type": "code",
      "metadata": {
        "id": "V4dO1a2sqxye",
        "colab_type": "code",
        "colab": {}
      },
      "source": [
        "X_balanced, y_balanced = balance_multi_classes(X, y)\n",
        "X_train, y_train, X_test, y_test = train_test_split_multi_classes(X_balanced, y_balanced)"
      ],
      "execution_count": 8,
      "outputs": []
    },
    {
      "cell_type": "code",
      "metadata": {
        "id": "8GrX9oON6P_C",
        "colab_type": "code",
        "colab": {
          "base_uri": "https://localhost:8080/",
          "height": 34
        },
        "outputId": "aa0e7aee-d450-401c-a67c-d3e6ff064466"
      },
      "source": [
        "X_train.shape, y_train.shape, X_test.shape, y_test.shape"
      ],
      "execution_count": 9,
      "outputs": [
        {
          "output_type": "execute_result",
          "data": {
            "text/plain": [
              "((15252, 42, 12, 1), (15252, 3), (1692, 42, 12, 1), (1692, 3))"
            ]
          },
          "metadata": {
            "tags": []
          },
          "execution_count": 9
        }
      ]
    },
    {
      "cell_type": "code",
      "metadata": {
        "id": "OXNC8154R7TG",
        "colab_type": "code",
        "colab": {}
      },
      "source": [
        "model = VGG_Slimmer(p = 0.6, num_output = 3)\n",
        "model.compile(optimizer = keras.optimizers.RMSprop(learning_rate=0.0001),\n",
        "                loss = 'categorical_crossentropy',\n",
        "                metrics = ['categorical_accuracy'])"
      ],
      "execution_count": 10,
      "outputs": []
    },
    {
      "cell_type": "code",
      "metadata": {
        "id": "5CUWW5FlSNDV",
        "colab_type": "code",
        "colab": {
          "base_uri": "https://localhost:8080/",
          "height": 1000
        },
        "outputId": "96ded09f-8e35-4c25-f789-452fcbe72d65"
      },
      "source": [
        "callback = tf.keras.callbacks.TensorBoard(log_dir = LOG_FOLDER, histogram_freq=1)\n",
        "\n",
        "model.fit(X_train, y_train, \n",
        "          batch_size=128,  epochs=100, verbose = 1, \n",
        "          validation_data = (X_test, y_test), \n",
        "          callbacks = [callback, keras.callbacks.EarlyStopping(monitor='val_categorical_accuracy', patience=20, mode='auto')])"
      ],
      "execution_count": 11,
      "outputs": [
        {
          "output_type": "stream",
          "text": [
            "Epoch 1/100\n",
            "  2/120 [..............................] - ETA: 51s - loss: 20.9251 - categorical_accuracy: 0.3125WARNING:tensorflow:Method (on_train_batch_end) is slow compared to the batch update (0.432650). Check your callbacks.\n",
            "120/120 [==============================] - 3s 26ms/step - loss: 6.9447 - categorical_accuracy: 0.3349 - val_loss: 1.0787 - val_categorical_accuracy: 0.4356\n",
            "Epoch 2/100\n",
            "120/120 [==============================] - 2s 13ms/step - loss: 1.7798 - categorical_accuracy: 0.3608 - val_loss: 1.0678 - val_categorical_accuracy: 0.4521\n",
            "Epoch 3/100\n",
            "120/120 [==============================] - 2s 13ms/step - loss: 1.2061 - categorical_accuracy: 0.3799 - val_loss: 1.0335 - val_categorical_accuracy: 0.4504\n",
            "Epoch 4/100\n",
            "120/120 [==============================] - 2s 13ms/step - loss: 1.0581 - categorical_accuracy: 0.4586 - val_loss: 1.2935 - val_categorical_accuracy: 0.4504\n",
            "Epoch 5/100\n",
            "120/120 [==============================] - 2s 13ms/step - loss: 0.9849 - categorical_accuracy: 0.5028 - val_loss: 1.2069 - val_categorical_accuracy: 0.4811\n",
            "Epoch 6/100\n",
            "120/120 [==============================] - 2s 13ms/step - loss: 0.9405 - categorical_accuracy: 0.5241 - val_loss: 1.1919 - val_categorical_accuracy: 0.4900\n",
            "Epoch 7/100\n",
            "120/120 [==============================] - 2s 13ms/step - loss: 0.9099 - categorical_accuracy: 0.5389 - val_loss: 1.1656 - val_categorical_accuracy: 0.4965\n",
            "Epoch 8/100\n",
            "120/120 [==============================] - 2s 13ms/step - loss: 0.8955 - categorical_accuracy: 0.5544 - val_loss: 1.2301 - val_categorical_accuracy: 0.4941\n",
            "Epoch 9/100\n",
            "120/120 [==============================] - 2s 13ms/step - loss: 0.8776 - categorical_accuracy: 0.5581 - val_loss: 1.2910 - val_categorical_accuracy: 0.4858\n",
            "Epoch 10/100\n",
            "120/120 [==============================] - 2s 13ms/step - loss: 0.8731 - categorical_accuracy: 0.5600 - val_loss: 1.1828 - val_categorical_accuracy: 0.5095\n",
            "Epoch 11/100\n",
            "120/120 [==============================] - 2s 13ms/step - loss: 0.8588 - categorical_accuracy: 0.5695 - val_loss: 1.2613 - val_categorical_accuracy: 0.4805\n",
            "Epoch 12/100\n",
            "120/120 [==============================] - 2s 13ms/step - loss: 0.8442 - categorical_accuracy: 0.5707 - val_loss: 1.2184 - val_categorical_accuracy: 0.5189\n",
            "Epoch 13/100\n",
            "120/120 [==============================] - 2s 13ms/step - loss: 0.8484 - categorical_accuracy: 0.5676 - val_loss: 1.1551 - val_categorical_accuracy: 0.5089\n",
            "Epoch 14/100\n",
            "120/120 [==============================] - 2s 13ms/step - loss: 0.8418 - categorical_accuracy: 0.5812 - val_loss: 1.2162 - val_categorical_accuracy: 0.4888\n",
            "Epoch 15/100\n",
            "120/120 [==============================] - 2s 13ms/step - loss: 0.8249 - categorical_accuracy: 0.5847 - val_loss: 1.1622 - val_categorical_accuracy: 0.4592\n",
            "Epoch 16/100\n",
            "120/120 [==============================] - 2s 13ms/step - loss: 0.8172 - categorical_accuracy: 0.5834 - val_loss: 1.1122 - val_categorical_accuracy: 0.4900\n",
            "Epoch 17/100\n",
            "120/120 [==============================] - 2s 13ms/step - loss: 0.8197 - categorical_accuracy: 0.5848 - val_loss: 1.1221 - val_categorical_accuracy: 0.5207\n",
            "Epoch 18/100\n",
            "120/120 [==============================] - 2s 13ms/step - loss: 0.8091 - categorical_accuracy: 0.5943 - val_loss: 1.0837 - val_categorical_accuracy: 0.5301\n",
            "Epoch 19/100\n",
            "120/120 [==============================] - 2s 13ms/step - loss: 0.8084 - categorical_accuracy: 0.5871 - val_loss: 1.0436 - val_categorical_accuracy: 0.5431\n",
            "Epoch 20/100\n",
            "120/120 [==============================] - 2s 13ms/step - loss: 0.8091 - categorical_accuracy: 0.5903 - val_loss: 1.0401 - val_categorical_accuracy: 0.5544\n",
            "Epoch 21/100\n",
            "120/120 [==============================] - 2s 13ms/step - loss: 0.8055 - categorical_accuracy: 0.5928 - val_loss: 1.0933 - val_categorical_accuracy: 0.5343\n",
            "Epoch 22/100\n",
            "120/120 [==============================] - 2s 14ms/step - loss: 0.8068 - categorical_accuracy: 0.5903 - val_loss: 0.9998 - val_categorical_accuracy: 0.5485\n",
            "Epoch 23/100\n",
            "120/120 [==============================] - 2s 13ms/step - loss: 0.7987 - categorical_accuracy: 0.5995 - val_loss: 1.0505 - val_categorical_accuracy: 0.5556\n",
            "Epoch 24/100\n",
            "120/120 [==============================] - 2s 14ms/step - loss: 0.7906 - categorical_accuracy: 0.6001 - val_loss: 0.9134 - val_categorical_accuracy: 0.5703\n",
            "Epoch 25/100\n",
            "120/120 [==============================] - 2s 13ms/step - loss: 0.7932 - categorical_accuracy: 0.5986 - val_loss: 0.9974 - val_categorical_accuracy: 0.5508\n",
            "Epoch 26/100\n",
            "120/120 [==============================] - 2s 13ms/step - loss: 0.7852 - categorical_accuracy: 0.6025 - val_loss: 0.9976 - val_categorical_accuracy: 0.5544\n",
            "Epoch 27/100\n",
            "120/120 [==============================] - 2s 13ms/step - loss: 0.7779 - categorical_accuracy: 0.6081 - val_loss: 0.9501 - val_categorical_accuracy: 0.5644\n",
            "Epoch 28/100\n",
            "120/120 [==============================] - 2s 13ms/step - loss: 0.7814 - categorical_accuracy: 0.6062 - val_loss: 0.9253 - val_categorical_accuracy: 0.5621\n",
            "Epoch 29/100\n",
            "120/120 [==============================] - 2s 13ms/step - loss: 0.7731 - categorical_accuracy: 0.6077 - val_loss: 0.9054 - val_categorical_accuracy: 0.5745\n",
            "Epoch 30/100\n",
            "120/120 [==============================] - 2s 14ms/step - loss: 0.7701 - categorical_accuracy: 0.6114 - val_loss: 0.9707 - val_categorical_accuracy: 0.5668\n",
            "Epoch 31/100\n",
            "120/120 [==============================] - 2s 13ms/step - loss: 0.7633 - categorical_accuracy: 0.6080 - val_loss: 0.9731 - val_categorical_accuracy: 0.5650\n",
            "Epoch 32/100\n",
            "120/120 [==============================] - 2s 14ms/step - loss: 0.7742 - categorical_accuracy: 0.6088 - val_loss: 0.9225 - val_categorical_accuracy: 0.5810\n",
            "Epoch 33/100\n",
            "120/120 [==============================] - 2s 13ms/step - loss: 0.7743 - categorical_accuracy: 0.6138 - val_loss: 0.8623 - val_categorical_accuracy: 0.5987\n",
            "Epoch 34/100\n",
            "120/120 [==============================] - 2s 13ms/step - loss: 0.7622 - categorical_accuracy: 0.6165 - val_loss: 0.9238 - val_categorical_accuracy: 0.5591\n",
            "Epoch 35/100\n",
            "120/120 [==============================] - 2s 13ms/step - loss: 0.7628 - categorical_accuracy: 0.6157 - val_loss: 0.8784 - val_categorical_accuracy: 0.5940\n",
            "Epoch 36/100\n",
            "120/120 [==============================] - 2s 13ms/step - loss: 0.7620 - categorical_accuracy: 0.6275 - val_loss: 0.8729 - val_categorical_accuracy: 0.5887\n",
            "Epoch 37/100\n",
            "120/120 [==============================] - 2s 13ms/step - loss: 0.7550 - categorical_accuracy: 0.6202 - val_loss: 0.8785 - val_categorical_accuracy: 0.5892\n",
            "Epoch 38/100\n",
            "120/120 [==============================] - 2s 13ms/step - loss: 0.7626 - categorical_accuracy: 0.6199 - val_loss: 0.8815 - val_categorical_accuracy: 0.5993\n",
            "Epoch 39/100\n",
            "120/120 [==============================] - 2s 13ms/step - loss: 0.7542 - categorical_accuracy: 0.6183 - val_loss: 0.8707 - val_categorical_accuracy: 0.5898\n",
            "Epoch 40/100\n",
            "120/120 [==============================] - 2s 13ms/step - loss: 0.7512 - categorical_accuracy: 0.6245 - val_loss: 0.9117 - val_categorical_accuracy: 0.5822\n",
            "Epoch 41/100\n",
            "120/120 [==============================] - 2s 13ms/step - loss: 0.7583 - categorical_accuracy: 0.6267 - val_loss: 0.8549 - val_categorical_accuracy: 0.5916\n",
            "Epoch 42/100\n",
            "120/120 [==============================] - 2s 13ms/step - loss: 0.7513 - categorical_accuracy: 0.6240 - val_loss: 0.8855 - val_categorical_accuracy: 0.5999\n",
            "Epoch 43/100\n",
            "120/120 [==============================] - 2s 13ms/step - loss: 0.7489 - categorical_accuracy: 0.6316 - val_loss: 0.8742 - val_categorical_accuracy: 0.5733\n",
            "Epoch 44/100\n",
            "120/120 [==============================] - 2s 13ms/step - loss: 0.7467 - categorical_accuracy: 0.6339 - val_loss: 0.8935 - val_categorical_accuracy: 0.5922\n",
            "Epoch 45/100\n",
            "120/120 [==============================] - 2s 13ms/step - loss: 0.7426 - categorical_accuracy: 0.6338 - val_loss: 0.8726 - val_categorical_accuracy: 0.5910\n",
            "Epoch 46/100\n",
            "120/120 [==============================] - 2s 13ms/step - loss: 0.7399 - categorical_accuracy: 0.6385 - val_loss: 0.8916 - val_categorical_accuracy: 0.5987\n",
            "Epoch 47/100\n",
            "120/120 [==============================] - 2s 14ms/step - loss: 0.7412 - categorical_accuracy: 0.6395 - val_loss: 0.8950 - val_categorical_accuracy: 0.6011\n",
            "Epoch 48/100\n",
            "120/120 [==============================] - 2s 14ms/step - loss: 0.7378 - categorical_accuracy: 0.6479 - val_loss: 0.8661 - val_categorical_accuracy: 0.6164\n",
            "Epoch 49/100\n",
            "120/120 [==============================] - 2s 14ms/step - loss: 0.7436 - categorical_accuracy: 0.6477 - val_loss: 0.8491 - val_categorical_accuracy: 0.5904\n",
            "Epoch 50/100\n",
            "120/120 [==============================] - 2s 14ms/step - loss: 0.7331 - categorical_accuracy: 0.6484 - val_loss: 0.9316 - val_categorical_accuracy: 0.6288\n",
            "Epoch 51/100\n",
            "120/120 [==============================] - 2s 13ms/step - loss: 0.7264 - categorical_accuracy: 0.6524 - val_loss: 0.8953 - val_categorical_accuracy: 0.6200\n",
            "Epoch 52/100\n",
            "120/120 [==============================] - 2s 14ms/step - loss: 0.7296 - categorical_accuracy: 0.6615 - val_loss: 0.9857 - val_categorical_accuracy: 0.6164\n",
            "Epoch 53/100\n",
            "120/120 [==============================] - 2s 14ms/step - loss: 0.7328 - categorical_accuracy: 0.6564 - val_loss: 0.8688 - val_categorical_accuracy: 0.6288\n",
            "Epoch 54/100\n",
            "120/120 [==============================] - 2s 14ms/step - loss: 0.7275 - categorical_accuracy: 0.6650 - val_loss: 0.9431 - val_categorical_accuracy: 0.6531\n",
            "Epoch 55/100\n",
            "120/120 [==============================] - 2s 14ms/step - loss: 0.7257 - categorical_accuracy: 0.6680 - val_loss: 0.8606 - val_categorical_accuracy: 0.6389\n",
            "Epoch 56/100\n",
            "120/120 [==============================] - 2s 14ms/step - loss: 0.7241 - categorical_accuracy: 0.6683 - val_loss: 0.9125 - val_categorical_accuracy: 0.6584\n",
            "Epoch 57/100\n",
            "120/120 [==============================] - 2s 14ms/step - loss: 0.7145 - categorical_accuracy: 0.6716 - val_loss: 0.9261 - val_categorical_accuracy: 0.6791\n",
            "Epoch 58/100\n",
            "120/120 [==============================] - 2s 14ms/step - loss: 0.7161 - categorical_accuracy: 0.6848 - val_loss: 0.8834 - val_categorical_accuracy: 0.6720\n",
            "Epoch 59/100\n",
            "120/120 [==============================] - 2s 13ms/step - loss: 0.7100 - categorical_accuracy: 0.6770 - val_loss: 0.8309 - val_categorical_accuracy: 0.6732\n",
            "Epoch 60/100\n",
            "120/120 [==============================] - 2s 14ms/step - loss: 0.7136 - categorical_accuracy: 0.6870 - val_loss: 0.8416 - val_categorical_accuracy: 0.6619\n",
            "Epoch 61/100\n",
            "120/120 [==============================] - 2s 13ms/step - loss: 0.7098 - categorical_accuracy: 0.6844 - val_loss: 0.8101 - val_categorical_accuracy: 0.6779\n",
            "Epoch 62/100\n",
            "120/120 [==============================] - 2s 13ms/step - loss: 0.7024 - categorical_accuracy: 0.6846 - val_loss: 0.8052 - val_categorical_accuracy: 0.6891\n",
            "Epoch 63/100\n",
            "120/120 [==============================] - 2s 13ms/step - loss: 0.7029 - categorical_accuracy: 0.6923 - val_loss: 0.8087 - val_categorical_accuracy: 0.6466\n",
            "Epoch 64/100\n",
            "120/120 [==============================] - 2s 13ms/step - loss: 0.7110 - categorical_accuracy: 0.6954 - val_loss: 0.7964 - val_categorical_accuracy: 0.6690\n",
            "Epoch 65/100\n",
            "120/120 [==============================] - 2s 14ms/step - loss: 0.6981 - categorical_accuracy: 0.6916 - val_loss: 0.8052 - val_categorical_accuracy: 0.6844\n",
            "Epoch 66/100\n",
            "120/120 [==============================] - 2s 14ms/step - loss: 0.6972 - categorical_accuracy: 0.6943 - val_loss: 0.8914 - val_categorical_accuracy: 0.6566\n",
            "Epoch 67/100\n",
            "120/120 [==============================] - 2s 14ms/step - loss: 0.6955 - categorical_accuracy: 0.7034 - val_loss: 0.7855 - val_categorical_accuracy: 0.6667\n",
            "Epoch 68/100\n",
            "120/120 [==============================] - 2s 14ms/step - loss: 0.6898 - categorical_accuracy: 0.7044 - val_loss: 0.7908 - val_categorical_accuracy: 0.7080\n",
            "Epoch 69/100\n",
            "120/120 [==============================] - 2s 14ms/step - loss: 0.6830 - categorical_accuracy: 0.7023 - val_loss: 0.7750 - val_categorical_accuracy: 0.6980\n",
            "Epoch 70/100\n",
            "120/120 [==============================] - 2s 14ms/step - loss: 0.6808 - categorical_accuracy: 0.7124 - val_loss: 0.7708 - val_categorical_accuracy: 0.7145\n",
            "Epoch 71/100\n",
            "120/120 [==============================] - 2s 14ms/step - loss: 0.6869 - categorical_accuracy: 0.7081 - val_loss: 0.7828 - val_categorical_accuracy: 0.7009\n",
            "Epoch 72/100\n",
            "120/120 [==============================] - 2s 14ms/step - loss: 0.6715 - categorical_accuracy: 0.7108 - val_loss: 0.7975 - val_categorical_accuracy: 0.7098\n",
            "Epoch 73/100\n",
            "120/120 [==============================] - 2s 14ms/step - loss: 0.6645 - categorical_accuracy: 0.7092 - val_loss: 0.7807 - val_categorical_accuracy: 0.7210\n",
            "Epoch 74/100\n",
            "120/120 [==============================] - 2s 14ms/step - loss: 0.6764 - categorical_accuracy: 0.7082 - val_loss: 0.7715 - val_categorical_accuracy: 0.6803\n",
            "Epoch 75/100\n",
            "120/120 [==============================] - 2s 14ms/step - loss: 0.6758 - categorical_accuracy: 0.7110 - val_loss: 0.7710 - val_categorical_accuracy: 0.7139\n",
            "Epoch 76/100\n",
            "120/120 [==============================] - 2s 14ms/step - loss: 0.6661 - categorical_accuracy: 0.7152 - val_loss: 0.7975 - val_categorical_accuracy: 0.7246\n",
            "Epoch 77/100\n",
            "120/120 [==============================] - 2s 14ms/step - loss: 0.6601 - categorical_accuracy: 0.7200 - val_loss: 0.7608 - val_categorical_accuracy: 0.7240\n",
            "Epoch 78/100\n",
            "120/120 [==============================] - 2s 14ms/step - loss: 0.6713 - categorical_accuracy: 0.7135 - val_loss: 0.7535 - val_categorical_accuracy: 0.7039\n",
            "Epoch 79/100\n",
            "120/120 [==============================] - 2s 14ms/step - loss: 0.6683 - categorical_accuracy: 0.7191 - val_loss: 0.7244 - val_categorical_accuracy: 0.7193\n",
            "Epoch 80/100\n",
            "120/120 [==============================] - 2s 14ms/step - loss: 0.6581 - categorical_accuracy: 0.7219 - val_loss: 0.7265 - val_categorical_accuracy: 0.7305\n",
            "Epoch 81/100\n",
            "120/120 [==============================] - 2s 14ms/step - loss: 0.6704 - categorical_accuracy: 0.7187 - val_loss: 0.7308 - val_categorical_accuracy: 0.7104\n",
            "Epoch 82/100\n",
            "120/120 [==============================] - 2s 14ms/step - loss: 0.6552 - categorical_accuracy: 0.7215 - val_loss: 0.7427 - val_categorical_accuracy: 0.7405\n",
            "Epoch 83/100\n",
            "120/120 [==============================] - 2s 14ms/step - loss: 0.6524 - categorical_accuracy: 0.7218 - val_loss: 0.8378 - val_categorical_accuracy: 0.6643\n",
            "Epoch 84/100\n",
            "120/120 [==============================] - 2s 14ms/step - loss: 0.6467 - categorical_accuracy: 0.7309 - val_loss: 0.7485 - val_categorical_accuracy: 0.7222\n",
            "Epoch 85/100\n",
            "120/120 [==============================] - 2s 14ms/step - loss: 0.6456 - categorical_accuracy: 0.7288 - val_loss: 0.7468 - val_categorical_accuracy: 0.7329\n",
            "Epoch 86/100\n",
            "120/120 [==============================] - 2s 14ms/step - loss: 0.6529 - categorical_accuracy: 0.7246 - val_loss: 0.7379 - val_categorical_accuracy: 0.7021\n",
            "Epoch 87/100\n",
            "120/120 [==============================] - 2s 14ms/step - loss: 0.6482 - categorical_accuracy: 0.7242 - val_loss: 0.7334 - val_categorical_accuracy: 0.7015\n",
            "Epoch 88/100\n",
            "120/120 [==============================] - 2s 14ms/step - loss: 0.6474 - categorical_accuracy: 0.7278 - val_loss: 0.7201 - val_categorical_accuracy: 0.7305\n",
            "Epoch 89/100\n",
            "120/120 [==============================] - 2s 14ms/step - loss: 0.6482 - categorical_accuracy: 0.7333 - val_loss: 0.7138 - val_categorical_accuracy: 0.7210\n",
            "Epoch 90/100\n",
            "120/120 [==============================] - 2s 14ms/step - loss: 0.6417 - categorical_accuracy: 0.7315 - val_loss: 0.7983 - val_categorical_accuracy: 0.7364\n",
            "Epoch 91/100\n",
            "120/120 [==============================] - 2s 14ms/step - loss: 0.6468 - categorical_accuracy: 0.7326 - val_loss: 0.7302 - val_categorical_accuracy: 0.6803\n",
            "Epoch 92/100\n",
            "120/120 [==============================] - 2s 14ms/step - loss: 0.6464 - categorical_accuracy: 0.7351 - val_loss: 0.7217 - val_categorical_accuracy: 0.7281\n",
            "Epoch 93/100\n",
            "120/120 [==============================] - 2s 14ms/step - loss: 0.6415 - categorical_accuracy: 0.7366 - val_loss: 0.7510 - val_categorical_accuracy: 0.7193\n",
            "Epoch 94/100\n",
            "120/120 [==============================] - 2s 14ms/step - loss: 0.6470 - categorical_accuracy: 0.7309 - val_loss: 0.7089 - val_categorical_accuracy: 0.7275\n",
            "Epoch 95/100\n",
            "120/120 [==============================] - 2s 14ms/step - loss: 0.6362 - categorical_accuracy: 0.7380 - val_loss: 0.7480 - val_categorical_accuracy: 0.6755\n",
            "Epoch 96/100\n",
            "120/120 [==============================] - 2s 14ms/step - loss: 0.6416 - categorical_accuracy: 0.7385 - val_loss: 0.7519 - val_categorical_accuracy: 0.6814\n",
            "Epoch 97/100\n",
            "120/120 [==============================] - 2s 14ms/step - loss: 0.6292 - categorical_accuracy: 0.7400 - val_loss: 0.7750 - val_categorical_accuracy: 0.6850\n",
            "Epoch 98/100\n",
            "120/120 [==============================] - 2s 14ms/step - loss: 0.6402 - categorical_accuracy: 0.7326 - val_loss: 0.6959 - val_categorical_accuracy: 0.7423\n",
            "Epoch 99/100\n",
            "120/120 [==============================] - 2s 14ms/step - loss: 0.6289 - categorical_accuracy: 0.7402 - val_loss: 0.7507 - val_categorical_accuracy: 0.7051\n",
            "Epoch 100/100\n",
            "120/120 [==============================] - 2s 14ms/step - loss: 0.6392 - categorical_accuracy: 0.7351 - val_loss: 0.7028 - val_categorical_accuracy: 0.7139\n"
          ],
          "name": "stdout"
        },
        {
          "output_type": "execute_result",
          "data": {
            "text/plain": [
              "<tensorflow.python.keras.callbacks.History at 0x7fa21b46bac8>"
            ]
          },
          "metadata": {
            "tags": []
          },
          "execution_count": 11
        }
      ]
    }
  ]
}