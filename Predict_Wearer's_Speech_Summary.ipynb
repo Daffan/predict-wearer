{
  "nbformat": 4,
  "nbformat_minor": 0,
  "metadata": {
    "colab": {
      "name": "Predict Wearer's Speech Summary.ipynb",
      "provenance": [],
      "collapsed_sections": []
    },
    "kernelspec": {
      "name": "python3",
      "display_name": "Python 3"
    }
  },
  "cells": [
    {
      "cell_type": "code",
      "metadata": {
        "id": "f6jpvlbOVSjK",
        "colab_type": "code",
        "colab": {}
      },
      "source": [
        "from utilize.data import *\n",
        "from utilize.model import *\n",
        "import tensorflow.keras as keras\n",
        "import numpy as np"
      ],
      "execution_count": 0,
      "outputs": []
    },
    {
      "cell_type": "code",
      "metadata": {
        "id": "I1QHelVuVVMe",
        "colab_type": "code",
        "colab": {}
      },
      "source": [
        "%matplotlib inline\n",
        "import matplotlib.pyplot as plt"
      ],
      "execution_count": 0,
      "outputs": []
    },
    {
      "cell_type": "markdown",
      "metadata": {
        "id": "tvvecQ_ZVXqN",
        "colab_type": "text"
      },
      "source": [
        "# Dataset"
      ]
    },
    {
      "cell_type": "code",
      "metadata": {
        "id": "dxFe_WmhVZ-r",
        "colab_type": "code",
        "colab": {}
      },
      "source": [
        "X, y, sr = load_full_frame(sr = 8000)"
      ],
      "execution_count": 0,
      "outputs": []
    },
    {
      "cell_type": "code",
      "metadata": {
        "id": "LJVofbSYWHB-",
        "colab_type": "code",
        "colab": {
          "base_uri": "https://localhost:8080/",
          "height": 51
        },
        "outputId": "7a66c98d-6869-48ed-ccf8-e585ec96d098"
      },
      "source": [
        "print(\"Loat the dataset with 8000 Hz sample rate\")\n",
        "print(\"Total length: %.2fmin\\tWearer speech: %.2f%%\\tOthers speech: %.2f%%\" \n",
        "      %(X.shape[0]/sr/60, np.sum(y[:, 0])/y[:, 0].shape[0]*100, np.sum(y[:, 1])/y[:, 1].shape[0]*100))"
      ],
      "execution_count": 44,
      "outputs": [
        {
          "output_type": "stream",
          "text": [
            "Loat the dataset with 8000 Hz sample rate\n",
            "Total length: 33.01min\tWearer speech: 18.94%\tOthers speech: 22.71%\n"
          ],
          "name": "stdout"
        }
      ]
    },
    {
      "cell_type": "code",
      "metadata": {
        "id": "zbD-arm5X6pA",
        "colab_type": "code",
        "colab": {}
      },
      "source": [
        "labels = pd.read_csv(LALBELS_PATH, sep='\\t', header=None,\n",
        "                    names=['start', 'end', 'annotation'],\n",
        "                    dtype=dict(start=float,end=float,annotation=str))"
      ],
      "execution_count": 0,
      "outputs": []
    },
    {
      "cell_type": "code",
      "metadata": {
        "id": "BLoYrhtPYZ9e",
        "colab_type": "code",
        "colab": {}
      },
      "source": [
        "w_len = np.array(labels.loc[labels['annotation'] == 'W', 'end']) - np.array(labels.loc[labels['annotation'] == 'W', 'start'])"
      ],
      "execution_count": 0,
      "outputs": []
    },
    {
      "cell_type": "code",
      "metadata": {
        "id": "s9nVn9tlY0A-",
        "colab_type": "code",
        "colab": {}
      },
      "source": [
        "o_len = np.array(labels.loc[labels['annotation'] == 'O', 'end']) - np.array(labels.loc[labels['annotation'] == 'O', 'start'])"
      ],
      "execution_count": 0,
      "outputs": []
    },
    {
      "cell_type": "code",
      "metadata": {
        "id": "TFadKq_bZF-0",
        "colab_type": "code",
        "colab": {
          "base_uri": "https://localhost:8080/",
          "height": 279
        },
        "outputId": "8285ced0-d43e-407a-bbc2-99f9836e73b1"
      },
      "source": [
        "plt.hist([w_len, o_len])\n",
        "plt.legend([\"Wearer's speech\", \"Others' speech\"])\n",
        "plt.xlabel(\"speech length (s)\")\n",
        "plt.ylabel(\"frequency\")\n",
        "plt.show()"
      ],
      "execution_count": 29,
      "outputs": [
        {
          "output_type": "display_data",
          "data": {
            "image/png": "[encoded data removed]",
            "text/plain": [
              "<Figure size 432x288 with 1 Axes>"
            ]
          },
          "metadata": {
            "tags": [],
            "needs_background": "light"
          }
        }
      ]
    },
    {
      "cell_type": "markdown",
      "metadata": {
        "id": "XgWNQ-fMZysK",
        "colab_type": "text"
      },
      "source": [
        "## Preprocessing \n",
        "* Segment the data into 256 length frames, which corresponds to 32 ms \n",
        "* Use the label of the last time step in a frame as the true ground\n",
        "* Drop the frame without speech and both wearer's and others' speech\n",
        "* Normalize each frame to zero mean and unit std "
      ]
    },
    {
      "cell_type": "code",
      "metadata": {
        "id": "9-4XmMPlZ0Fd",
        "colab_type": "code",
        "colab": {}
      },
      "source": [
        "X, y, sr = load_frames(sr = 8000, frame_length = 256)"
      ],
      "execution_count": 0,
      "outputs": []
    },
    {
      "cell_type": "code",
      "metadata": {
        "id": "4WbuzoqBa3oJ",
        "colab_type": "code",
        "colab": {
          "base_uri": "https://localhost:8080/",
          "height": 51
        },
        "outputId": "700242c8-9d38-48dc-cc09-39b0e81f00aa"
      },
      "source": [
        "print(X.shape, y.shape, sr)\n",
        "print(\"Load %d frames of a time step length %d corrsponding to %dms per frame\" %(X.shape[0], X.shape[1], X.shape[1]/sr*1000))"
      ],
      "execution_count": 38,
      "outputs": [
        {
          "output_type": "stream",
          "text": [
            "(25499, 256, 1) (25499,) 8000\n",
            "Load 25499 frames of a time step length 256 corrsponding to 32ms per frame\n"
          ],
          "name": "stdout"
        }
      ]
    },
    {
      "cell_type": "code",
      "metadata": {
        "id": "1xZW6htSaDeJ",
        "colab_type": "code",
        "colab": {
          "base_uri": "https://localhost:8080/",
          "height": 34
        },
        "outputId": "6772371f-de66-4450-a372-149c947b01a1"
      },
      "source": [
        "X_normal = (X - np.mean(X, axis = 1, keepdims = True)) / np.std(X, axis = 1, keepdims = True)\n",
        "print(X_normal.shape)"
      ],
      "execution_count": 41,
      "outputs": [
        {
          "output_type": "stream",
          "text": [
            "(25499, 256, 1)\n"
          ],
          "name": "stdout"
        }
      ]
    },
    {
      "cell_type": "markdown",
      "metadata": {
        "id": "E5VPyzQ4cnpY",
        "colab_type": "text"
      },
      "source": [
        "# Problems about the network in the paper "
      ]
    },
    {
      "cell_type": "markdown",
      "metadata": {
        "id": "p3Bb2CLkeMWM",
        "colab_type": "text"
      },
      "source": [
        "This deep learning model starts with Convolutional Autoencoder (Encoder: 3 convolution layers, 3 MaxPooling layers and one fully-connected layer; Decoder: 3 convolution layers, 3 up-sampling layers and one fully-connected layer) followed by 3 layers of BLSTM, then 4 layers of LSTMs, and finally the softmax layer. All LSTM layers use the hyperbolic tangent as the activation function. The training algorithm for all layers is the Adam algorithm (4). The learning rate used is 10-5, and the regularisers used are dropout, batch normalisation, and l2 regularization. The classifier is trained only on the wearer speech and speech of other speakers from the training dataset (i.e. non-speech was not included in the training).  \n",
        "\n",
        "* Kernal size 1 make sense?\n",
        "* No fully-connected layer in source code\n",
        "* learning rate 10 - 5 will easily diverge\n",
        "* Use the prediction of the last time step as the prediction of the whole frame? \n",
        "* 256 steps (32 ms) seems too short to make the prediction "
      ]
    },
    {
      "cell_type": "markdown",
      "metadata": {
        "id": "f8_RWR9ee1Uo",
        "colab_type": "text"
      },
      "source": [
        "## Code for WearerModel \n",
        "I followed the model described in the paper (code as following), and trained the model on my dataset (lr = 0.01, higher value will diverge). The loss didn't go down at all and prediction became exactly the ratios of two classes. "
      ]
    },
    {
      "cell_type": "code",
      "metadata": {
        "id": "axaSTjk0e6Fn",
        "colab_type": "code",
        "colab": {}
      },
      "source": [
        "class WearerModel(Model):\n",
        "\n",
        "    def __init__(self, frame_length = 256, num_channels = 1, p = 0.5, regularization = 0.0005):\n",
        "\n",
        "        super(WearerModel, self).__init__()\n",
        "\n",
        "        self.frame_length = frame_length\n",
        "        self.num_channels = num_channels\n",
        "        self.dropout = p\n",
        "        self.regularization = regularization\n",
        "\n",
        "        ## conv autoencoder\n",
        "        # encoder conv1\n",
        "        self.conv1 = Conv1D(100, kernel_size = 1, activation = 'relu', input_shape = (frame_length, num_channels))\n",
        "        self.maxpool1 = MaxPool1D(pool_size = 2)\n",
        "        # encoder conv2\n",
        "        self.conv2 = Conv1D(100, kernel_size = 1, activation = 'relu')\n",
        "        self.maxpool2 = MaxPool1D(pool_size = 2)\n",
        "        # encoder conv3\n",
        "        self.conv3 = Conv1D(100, kernel_size = 1, activation = 'relu')\n",
        "        self.maxpool3 = MaxPool1D(pool_size = 4)\n",
        "        # decoder conv1\n",
        "        self.deconv1 = Conv1D(100, kernel_size = 1, activation = 'relu')\n",
        "        self.upsampling1 = UpSampling1D(size = 4)\n",
        "        # decoder conv2\n",
        "        self.deconv1 = Conv1D(100, kernel_size = 1, activation = 'relu')\n",
        "        self.upsampling1 = UpSampling1D(size = 2)\n",
        "        # decoder conv3\n",
        "        self.deconv1 = Conv1D(100, kernel_size = 1, activation = 'relu')\n",
        "        self.upsampling1 = UpSampling1D(size = 2)\n",
        "        # one fully-connected layer\n",
        "        self.dense0 = Dense(1, activation = 'relu')\n",
        "        self.conv_dropout = Dropout(p)\n",
        "\n",
        "        ## three layers of bidirectional lstm\n",
        "        self.bilstm1 = Bidirectional(LSTM(128, dropout=p, return_sequences=True))\n",
        "        self.bilstm2 = Bidirectional(LSTM(128, dropout=p, return_sequences=True))\n",
        "        self.bilstm3 = Bidirectional(LSTM(128, dropout=p, return_sequences=True))\n",
        "\n",
        "        ## four layers of lstm\n",
        "        self.lstm1 = LSTM(128, dropout=p, kernel_regularizer=regularizers.l2(regularization), return_sequences=True)\n",
        "        self.lstm2 = LSTM(128, dropout=p, kernel_regularizer=regularizers.l2(regularization), return_sequences=True)\n",
        "        self.lstm3 = LSTM(128, dropout=p, kernel_regularizer=regularizers.l2(regularization), return_sequences=True)\n",
        "        self.lstm4 = LSTM(128, dropout=p, kernel_regularizer=regularizers.l2(regularization), return_sequences=True)\n",
        "\n",
        "        ## three layers of fully connected layers\n",
        "        self.dense1 = Dense(128, activation='relu')\n",
        "        self.dense2 = Dense(128, activation='relu')\n",
        "        self.dense3 = Dense(128, activation='relu')\n",
        "        self.dense4 = Dense(128, activation='relu')\n",
        "\n",
        "        self.logit = Dense(1, activation='sigmoid')\n",
        "\n",
        "    def call(self, x):\n",
        "\n",
        "        ## conv autoencoder\n",
        "        x = self.conv_dropout(self.maxpool1(self.conv1(x)))\n",
        "        x = self.conv_dropout(self.maxpool2(self.conv2(x)))\n",
        "        x = self.conv_dropout(self.maxpool3(self.conv3(x)))\n",
        "        x = self.dense0(x)\n",
        "        ## three layers bidirectional lstm\n",
        "        x = self.bilstm1(x)\n",
        "        x = self.bilstm2(x)\n",
        "        x = self.bilstm3(x)\n",
        "        ## four layers lstm\n",
        "        x = self.lstm1(x)\n",
        "        x = self.lstm2(x)\n",
        "        x = self.lstm3(x)\n",
        "        x = self.lstm4(x)\n",
        "        ## four layers lstm\n",
        "        x = self.dense1(x)\n",
        "        x = self.dense2(x)\n",
        "        x = self.dense3(x)\n",
        "        x = self.dense4(x)\n",
        "        ## logit\n",
        "        x = self.logit(x)\n",
        "        x = x[:, -1, :]\n",
        "\n",
        "        return x"
      ],
      "execution_count": 0,
      "outputs": []
    },
    {
      "cell_type": "code",
      "metadata": {
        "id": "u110bq_OhPsy",
        "colab_type": "code",
        "colab": {}
      },
      "source": [
        "model = WearerModel(p = 0, regularization = 0)\n",
        "model.compile(optimizer = keras.optimizers.RMSprop(learning_rate=0.01),\n",
        "                loss = 'binary_crossentropy',\n",
        "                metrics = ['accuracy'])"
      ],
      "execution_count": 0,
      "outputs": []
    },
    {
      "cell_type": "code",
      "metadata": {
        "id": "6DoKgwQyhULJ",
        "colab_type": "code",
        "colab": {}
      },
      "source": [
        "model.fit(X_normal, y, epochs=50, verbose = 1, batch_size=100)"
      ],
      "execution_count": 0,
      "outputs": []
    },
    {
      "cell_type": "markdown",
      "metadata": {
        "id": "q10-PWy9e-xH",
        "colab_type": "text"
      },
      "source": [
        "## Code for simpler ConvLSTM model\n",
        "A simpler ConvLSTM model I used for comparasion. "
      ]
    },
    {
      "cell_type": "code",
      "metadata": {
        "id": "CubEUdfvfFZV",
        "colab_type": "code",
        "colab": {}
      },
      "source": [
        "class ConvLSTM(Model):\n",
        "\n",
        "    def __init__(self, frame_length = 256, num_channels = 1):\n",
        "\n",
        "        super(ConvLSTM, self).__init__()\n",
        "\n",
        "        self.conv1 = Conv1D(64, kernel_size = 5, activation = 'relu', input_shape = (frame_length, num_channels))\n",
        "        self.conv2 = Conv1D(64, kernel_size = 5, activation = 'relu')\n",
        "        self.conv3 = Conv1D(64, kernel_size = 5, activation = 'relu')\n",
        "        self.conv4 = Conv1D(64, kernel_size = 5, activation = 'relu')\n",
        "\n",
        "        self.lstm1 = LSTM(128, return_sequences=True)\n",
        "        self.lstm2 = LSTM(128, return_sequences=True)\n",
        "\n",
        "        self.dense = Dense(1, activation = 'sigmoid')\n",
        "\n",
        "    def call(self, x):\n",
        "\n",
        "        x = self.conv1(x)\n",
        "        x = self.conv2(x)\n",
        "        x = self.conv3(x)\n",
        "        x = self.conv4(x)\n",
        "\n",
        "        x = self.lstm1(x)\n",
        "        x = self.lstm2(x)\n",
        "\n",
        "        x = self.dense(x)\n",
        "        x = x[:, -1, :]\n",
        "\n",
        "        return x\n",
        "\n",
        "class BaselineCNN(Model):\n",
        "\n",
        "    def __init__(self, frame_length = 256, num_channels = 1):\n",
        "\n",
        "        super(BaselineCNN, self).__init__()\n",
        "\n",
        "        self.conv1 = Conv1D(64, kernel_size = 5, activation = 'relu', input_shape = (frame_length, num_channels))\n",
        "        self.conv2 = Conv1D(64, kernel_size = 5, activation = 'relu')\n",
        "        self.conv3 = Conv1D(64, kernel_size = 5, activation = 'relu')\n",
        "        self.conv4 = Conv1D(64, kernel_size = 5, activation = 'relu')\n",
        "\n",
        "        self.dense1 = Dense(128, activation = 'relu')\n",
        "        self.dense2 = Dense(128, activation = 'relu')\n",
        "\n",
        "        self.dense = Dense(1, activation = 'sigmoid')\n",
        "\n",
        "    def call(self, x):\n",
        "\n",
        "        x = self.conv1(x)\n",
        "        x = self.conv2(x)\n",
        "        x = self.conv3(x)\n",
        "        x = self.conv4(x)\n",
        "\n",
        "        x = self.dense1(x)\n",
        "        x = self.dense2(x)\n",
        "\n",
        "        x = self.dense(x)\n",
        "        x = x[:, -1, :]\n",
        "\n",
        "        return x"
      ],
      "execution_count": 0,
      "outputs": []
    },
    {
      "cell_type": "code",
      "metadata": {
        "id": "6WPp8Q33hlSO",
        "colab_type": "code",
        "colab": {}
      },
      "source": [
        "model = ConvLSTM()\n",
        "model.compile(optimizer = keras.optimizers.RMSprop(learning_rate=0.001),\n",
        "                loss = 'binary_crossentropy',\n",
        "                metrics = ['accuracy'])"
      ],
      "execution_count": 0,
      "outputs": []
    },
    {
      "cell_type": "code",
      "metadata": {
        "id": "-ysoqCWPhnsY",
        "colab_type": "code",
        "colab": {}
      },
      "source": [
        "model.fit(X_normal, y, batch_size=100,  epochs=50, verbose = 1)"
      ],
      "execution_count": 0,
      "outputs": []
    }
  ]
}