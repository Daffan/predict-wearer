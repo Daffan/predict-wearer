{
  "nbformat": 4,
  "nbformat_minor": 0,
  "metadata": {
    "colab": {
      "name": "ConvLSTM Multi-class.ipynb",
      "provenance": [],
      "collapsed_sections": []
    },
    "kernelspec": {
      "name": "python3",
      "display_name": "Python 3"
    },
    "accelerator": "GPU"
  },
  "cells": [
    {
      "cell_type": "code",
      "metadata": {
        "id": "nLCOSorgEG-9",
        "colab_type": "code",
        "colab": {}
      },
      "source": [
        "# Runing on colab with predict-wearer in the google drive\n",
        "import os\n",
        "os.chdir('./drive/My Drive/predict-wearer')"
      ],
      "execution_count": null,
      "outputs": []
    },
    {
      "cell_type": "code",
      "metadata": {
        "id": "ruJxM7z6EdQ6",
        "colab_type": "code",
        "colab": {}
      },
      "source": [
        "from utilize.data import *\n",
        "from utilize.model import *\n",
        "from utilize.transform import *\n",
        "import tensorflow.keras as keras\n",
        "import numpy as np"
      ],
      "execution_count": null,
      "outputs": []
    },
    {
      "cell_type": "code",
      "metadata": {
        "id": "mP885AcAKiyo",
        "colab_type": "code",
        "colab": {}
      },
      "source": [
        "class ConvLSTM(Model):\n",
        "\n",
        "    def __init__(self, frame_length = 256, num_channels = 1, p = 0.2, num_classes = 3):\n",
        "\n",
        "        super(ConvLSTM, self).__init__()\n",
        "\n",
        "        self.frame_length =  frame_length\n",
        "        self.num_channels = num_channels\n",
        "        self.p = p\n",
        "        self.num_classes = num_classes\n",
        "\n",
        "        self.conv1 = Conv1D(64, kernel_size = 5, activation = 'relu', input_shape = (frame_length, num_channels))\n",
        "        self.conv2 = Conv1D(64, kernel_size = 5, activation = 'relu')\n",
        "        self.conv3 = Conv1D(64, kernel_size = 5, activation = 'relu')\n",
        "        self.conv4 = Conv1D(64, kernel_size = 5, activation = 'relu')\n",
        "\n",
        "        self.lstm1 = LSTM(128, return_sequences=True)\n",
        "        self.lstm2 = LSTM(128, return_sequences=True)\n",
        "\n",
        "        self.dense = Dense(num_classes, activation = 'softmax')\n",
        "\n",
        "        self.dropout = Dropout(p)\n",
        "\n",
        "    def call(self, x):\n",
        "\n",
        "        x = self.dropout(self.conv1(x))\n",
        "        x = self.dropout(self.conv2(x))\n",
        "        x = self.dropout(self.conv3(x))\n",
        "        x = self.dropout(self.conv4(x))\n",
        "\n",
        "        x = self.dropout(self.lstm1(x))\n",
        "        x = self.dropout(self.lstm2(x))\n",
        "\n",
        "        x = self.dense(x)\n",
        "        x = x[:, -1, :]\n",
        "\n",
        "        return x"
      ],
      "execution_count": null,
      "outputs": []
    },
    {
      "cell_type": "code",
      "metadata": {
        "id": "Z80Azj-2EtDk",
        "colab_type": "code",
        "colab": {}
      },
      "source": [
        "DATA_PATH = './data/002_0528.wav'\n",
        "LALBELS_PATH = './data/002_0528.txt'\n",
        "LOG_FOLDER = './results/convlstm_multiclass_0604_004_rl0.001_dropout0.4_fl512_hl256_bs128/'"
      ],
      "execution_count": null,
      "outputs": []
    },
    {
      "cell_type": "code",
      "metadata": {
        "id": "piGu59Motihf",
        "colab_type": "code",
        "colab": {}
      },
      "source": [
        "if not os.path.exists(LOG_FOLDER): \n",
        "    os.mkdir(LOG_FOLDER)"
      ],
      "execution_count": null,
      "outputs": []
    },
    {
      "cell_type": "code",
      "metadata": {
        "id": "r5aUgfnWEoj2",
        "colab_type": "code",
        "colab": {}
      },
      "source": [
        "X, y, sr = load_frames_three_class(data_path=DATA_PATH, labels_path=LALBELS_PATH, frame_length=512)"
      ],
      "execution_count": null,
      "outputs": []
    },
    {
      "cell_type": "code",
      "metadata": {
        "id": "9SsblzbL8BY9",
        "colab_type": "code",
        "colab": {
          "base_uri": "https://localhost:8080/",
          "height": 34
        },
        "outputId": "ab4ecef2-d2ab-4300-e692-eebbc31465ec"
      },
      "source": [
        "X.shape, y.shape"
      ],
      "execution_count": null,
      "outputs": [
        {
          "output_type": "execute_result",
          "data": {
            "text/plain": [
              "((166878, 512, 1), (166878, 3))"
            ]
          },
          "metadata": {
            "tags": []
          },
          "execution_count": 7
        }
      ]
    },
    {
      "cell_type": "code",
      "metadata": {
        "id": "-XgjVCj-8E1M",
        "colab_type": "code",
        "colab": {
          "base_uri": "https://localhost:8080/",
          "height": 69
        },
        "outputId": "f7a088c3-5960-427e-e816-0c257e670e06"
      },
      "source": [
        "np.unique(y, return_counts=True, axis = 0)"
      ],
      "execution_count": null,
      "outputs": [
        {
          "output_type": "execute_result",
          "data": {
            "text/plain": [
              "(array([[False, False,  True],\n",
              "        [False,  True, False],\n",
              "        [ True, False, False]]), array([118133,  22221,  26524]))"
            ]
          },
          "metadata": {
            "tags": []
          },
          "execution_count": 8
        }
      ]
    },
    {
      "cell_type": "code",
      "metadata": {
        "id": "2_vAng6xM3yt",
        "colab_type": "code",
        "colab": {}
      },
      "source": [
        "X_balanced, y_balanced = balance_multi_classes(X, y)\n",
        "X_train, y_train, X_test, y_test = train_test_split_multi_classes(X_balanced, y_balanced)"
      ],
      "execution_count": null,
      "outputs": []
    },
    {
      "cell_type": "code",
      "metadata": {
        "id": "UBs_wikCj4EJ",
        "colab_type": "code",
        "colab": {
          "base_uri": "https://localhost:8080/",
          "height": 34
        },
        "outputId": "c3483c7d-f869-45ee-9a72-a8a1bdda46e5"
      },
      "source": [
        "X_train.shape, y_train.shape, X_test.shape, y_test.shape"
      ],
      "execution_count": null,
      "outputs": [
        {
          "output_type": "execute_result",
          "data": {
            "text/plain": [
              "((59997, 512, 1), (59997, 3), (6666, 512, 1), (6666, 3))"
            ]
          },
          "metadata": {
            "tags": []
          },
          "execution_count": 14
        }
      ]
    },
    {
      "cell_type": "code",
      "metadata": {
        "id": "95VGxPO0QNeQ",
        "colab_type": "code",
        "colab": {}
      },
      "source": [
        "model = ConvLSTM(p = 0.4)\n",
        "model.compile(optimizer = keras.optimizers.RMSprop(learning_rate=0.001),\n",
        "                loss = 'categorical_crossentropy',\n",
        "                metrics = ['categorical_accuracy'])"
      ],
      "execution_count": null,
      "outputs": []
    },
    {
      "cell_type": "code",
      "metadata": {
        "id": "iEwzOF4WQsVs",
        "colab_type": "code",
        "colab": {
          "base_uri": "https://localhost:8080/",
          "height": 89
        },
        "outputId": "f7d0f173-8ae9-4347-8ba6-2319ff830c63"
      },
      "source": [
        "callback = tf.keras.callbacks.TensorBoard(log_dir = LOG_FOLDER, histogram_freq=1)\n",
        "model.fit(X_train, y_train, \n",
        "          batch_size=128,  epochs=1, verbose = 1, \n",
        "          validation_data=(X_test, y_test), \n",
        "          callbacks = [callback, keras.callbacks.EarlyStopping(monitor='val_categorical_accuracy', patience=20, mode='auto')])"
      ],
      "execution_count": null,
      "outputs": [
        {
          "output_type": "stream",
          "text": [
            "  2/469 [..............................] - ETA: 4:01 - loss: 1.0994 - categorical_accuracy: 0.3008WARNING:tensorflow:Method (on_train_batch_end) is slow compared to the batch update (0.463712). Check your callbacks.\n",
            "469/469 [==============================] - 43s 92ms/step - loss: 0.9845 - categorical_accuracy: 0.4930 - val_loss: 0.9517 - val_categorical_accuracy: 0.5200\n"
          ],
          "name": "stdout"
        },
        {
          "output_type": "execute_result",
          "data": {
            "text/plain": [
              "<tensorflow.python.keras.callbacks.History at 0x7f65c0086160>"
            ]
          },
          "metadata": {
            "tags": []
          },
          "execution_count": 16
        }
      ]
    }
  ]
}